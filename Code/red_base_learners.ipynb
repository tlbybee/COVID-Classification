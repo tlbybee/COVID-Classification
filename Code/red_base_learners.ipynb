{
 "cells": [
  {
   "cell_type": "markdown",
   "metadata": {},
   "source": [
    "# Pretrained Models\n",
    "\n",
    "## Base learners using pretrained models\n",
    "\n",
    "### Base learners using Resnet152, AlexNet, Densenet161\n",
    "\n",
    "Built using the function that Tyler created\n",
    "The tb_preprocess.py script should be in the same folder as the notebook.\n",
    "\n",
    "##### Need to add other models"
   ]
  },
  {
   "cell_type": "code",
   "execution_count": 52,
   "metadata": {},
   "outputs": [],
   "source": [
    "modelnames = {'alexnet':'alexnet','resnet152':'resnet152','densenet161':'densenet161'}\n",
    "\n",
    "#Set the Model name\n",
    "model_param = 'alexnet'\n",
    "filepath = '.'"
   ]
  },
  {
   "cell_type": "code",
   "execution_count": 53,
   "metadata": {},
   "outputs": [
    {
     "name": "stdout",
     "output_type": "stream",
     "text": [
      "{'covid-19': 0, 'normal': 1, 'pnuemonia': 2}\n"
     ]
    }
   ],
   "source": [
    "import os\n",
    "import random\n",
    "import numpy as np\n",
    "import pandas as pd\n",
    "import torch\n",
    "import torchvision\n",
    "import torch.nn as nn\n",
    "import torch.nn.functional as F\n",
    "import torchvision.datasets as datasets\n",
    "import torchvision.transforms as transforms\n",
    "import matplotlib.pyplot as plt\n",
    "from torchvision import models\n",
    "\n",
    "\n",
    "#Use the preprocess function from tb_preprocess.py to load the datasets\n",
    "from tb_preprocess import load_data\n",
    "\n",
    "train_loader, _, val_loader,_ = load_data()  \n",
    "\n",
    "idx2class = {'covid-19': 0, 'normal': 1, 'pnuemonia': 2}\n",
    "classes = ('Covid-19', 'Normal', 'Pneumonia')"
   ]
  },
  {
   "cell_type": "markdown",
   "metadata": {},
   "source": [
    "### Use the model that is pretrained. \n",
    "\n",
    "##### Model selection is hardcoded for now\n"
   ]
  },
  {
   "cell_type": "code",
   "execution_count": 54,
   "metadata": {},
   "outputs": [
    {
     "name": "stdout",
     "output_type": "stream",
     "text": [
      "cpu\n"
     ]
    },
    {
     "data": {
      "text/plain": [
       "AlexNet(\n",
       "  (features): Sequential(\n",
       "    (0): Conv2d(3, 64, kernel_size=(11, 11), stride=(4, 4), padding=(2, 2))\n",
       "    (1): ReLU(inplace=True)\n",
       "    (2): MaxPool2d(kernel_size=3, stride=2, padding=0, dilation=1, ceil_mode=False)\n",
       "    (3): Conv2d(64, 192, kernel_size=(5, 5), stride=(1, 1), padding=(2, 2))\n",
       "    (4): ReLU(inplace=True)\n",
       "    (5): MaxPool2d(kernel_size=3, stride=2, padding=0, dilation=1, ceil_mode=False)\n",
       "    (6): Conv2d(192, 384, kernel_size=(3, 3), stride=(1, 1), padding=(1, 1))\n",
       "    (7): ReLU(inplace=True)\n",
       "    (8): Conv2d(384, 256, kernel_size=(3, 3), stride=(1, 1), padding=(1, 1))\n",
       "    (9): ReLU(inplace=True)\n",
       "    (10): Conv2d(256, 256, kernel_size=(3, 3), stride=(1, 1), padding=(1, 1))\n",
       "    (11): ReLU(inplace=True)\n",
       "    (12): MaxPool2d(kernel_size=3, stride=2, padding=0, dilation=1, ceil_mode=False)\n",
       "  )\n",
       "  (avgpool): AdaptiveAvgPool2d(output_size=(6, 6))\n",
       "  (classifier): Sequential(\n",
       "    (0): Dropout(p=0.5, inplace=False)\n",
       "    (1): Linear(in_features=9216, out_features=4096, bias=True)\n",
       "    (2): ReLU(inplace=True)\n",
       "    (3): Dropout(p=0.5, inplace=False)\n",
       "    (4): Linear(in_features=4096, out_features=4096, bias=True)\n",
       "    (5): ReLU(inplace=True)\n",
       "    (6): Linear(in_features=4096, out_features=1000, bias=True)\n",
       "  )\n",
       ")"
      ]
     },
     "execution_count": 54,
     "metadata": {},
     "output_type": "execute_result"
    }
   ],
   "source": [
    "\n",
    "red_model = models.__dict__[model_param](pretrained=True)\n",
    "\n",
    "#Instantiating CUDA device\n",
    "device = torch.device(\"cuda:0\" if torch.cuda.is_available() else \"cpu\")\n",
    "\n",
    "#Verifying CUDA\n",
    "print(device)\n",
    "\n",
    "#Move the input and model to GPU for speed if available\n",
    "red_model.to(device)\n"
   ]
  },
  {
   "cell_type": "markdown",
   "metadata": {},
   "source": [
    "#### Change the last linear layer to match the number of classes. In this case 3.\n",
    "\n",
    "##### Eg:- The standard Alexnet model has 1000 out features for the last Linear layer. Since the data set only has 3 classes, change the last layer to have 3 outs"
   ]
  },
  {
   "cell_type": "code",
   "execution_count": 55,
   "metadata": {},
   "outputs": [
    {
     "data": {
      "text/plain": [
       "AlexNet(\n",
       "  (features): Sequential(\n",
       "    (0): Conv2d(3, 64, kernel_size=(11, 11), stride=(4, 4), padding=(2, 2))\n",
       "    (1): ReLU(inplace=True)\n",
       "    (2): MaxPool2d(kernel_size=3, stride=2, padding=0, dilation=1, ceil_mode=False)\n",
       "    (3): Conv2d(64, 192, kernel_size=(5, 5), stride=(1, 1), padding=(2, 2))\n",
       "    (4): ReLU(inplace=True)\n",
       "    (5): MaxPool2d(kernel_size=3, stride=2, padding=0, dilation=1, ceil_mode=False)\n",
       "    (6): Conv2d(192, 384, kernel_size=(3, 3), stride=(1, 1), padding=(1, 1))\n",
       "    (7): ReLU(inplace=True)\n",
       "    (8): Conv2d(384, 256, kernel_size=(3, 3), stride=(1, 1), padding=(1, 1))\n",
       "    (9): ReLU(inplace=True)\n",
       "    (10): Conv2d(256, 256, kernel_size=(3, 3), stride=(1, 1), padding=(1, 1))\n",
       "    (11): ReLU(inplace=True)\n",
       "    (12): MaxPool2d(kernel_size=3, stride=2, padding=0, dilation=1, ceil_mode=False)\n",
       "  )\n",
       "  (avgpool): AdaptiveAvgPool2d(output_size=(6, 6))\n",
       "  (classifier): Sequential(\n",
       "    (0): Dropout(p=0.5, inplace=False)\n",
       "    (1): Linear(in_features=9216, out_features=4096, bias=True)\n",
       "    (2): ReLU(inplace=True)\n",
       "    (3): Dropout(p=0.5, inplace=False)\n",
       "    (4): Linear(in_features=4096, out_features=4096, bias=True)\n",
       "    (5): ReLU(inplace=True)\n",
       "    (6): Linear(in_features=4096, out_features=3, bias=True)\n",
       "  )\n",
       ")"
      ]
     },
     "execution_count": 55,
     "metadata": {},
     "output_type": "execute_result"
    }
   ],
   "source": [
    "\n",
    "if model_param == 'alexnet':\n",
    "    red_model.classifier[6] = torch.nn.Linear(red_model.classifier[6].in_features, 3, bias=True)\n",
    "elif model_param == 'resnet152':\n",
    "    red_model.fc = torch.nn.Linear(2048, 3, bias=True)\n",
    "elif model_param == 'densenet161':\n",
    "    red_model.classifier = torch.nn.Linear(2208, 3, bias=True)\n",
    "    \n",
    "red_model.eval()"
   ]
  },
  {
   "cell_type": "markdown",
   "metadata": {},
   "source": [
    "#### Criterion and Optimizer"
   ]
  },
  {
   "cell_type": "code",
   "execution_count": 56,
   "metadata": {},
   "outputs": [],
   "source": [
    "import torch.optim as optim\n",
    "\n",
    "#Loss\n",
    "criterion = nn.CrossEntropyLoss()\n",
    "\n",
    "#Optimizer(SGD)\n",
    "optimizer = optim.SGD(red_model.parameters(), lr=0.001, momentum=0.9)"
   ]
  },
  {
   "cell_type": "markdown",
   "metadata": {},
   "source": [
    "### Training Alexnet"
   ]
  },
  {
   "cell_type": "code",
   "execution_count": 57,
   "metadata": {},
   "outputs": [],
   "source": [
    "#Epochs is set to 1. Performace is slow\n",
    "#Need to try CUDA to speed up\n",
    "\n",
    "n_epochs = 1\n",
    "\n",
    "def train_model(model, train_dataloader, n_epoch=n_epochs, optimizer=optimizer, criterion=criterion):\n",
    "    import torch.optim as optim\n",
    "\n",
    "    # prep model for training\n",
    "    model.train() \n",
    "    \n",
    "    for epoch in range(n_epoch):\n",
    "        curr_epoch_loss = []\n",
    "        for data, target in train_dataloader:\n",
    "            \n",
    "            optimizer.zero_grad()\n",
    "            \n",
    "            output = model(data)\n",
    "            #print(output)\n",
    "            loss = criterion(output, target)\n",
    "            \n",
    "            loss.backward()\n",
    "            optimizer.step()\n",
    "            \n",
    "            curr_epoch_loss.append(loss.cpu().data.numpy())\n",
    "            \n",
    "        print(f\"Epoch {epoch}: curr_epoch_loss={np.mean(curr_epoch_loss)}\")\n",
    "    \n",
    "    return model\n",
    "\n",
    "\n"
   ]
  },
  {
   "cell_type": "markdown",
   "metadata": {},
   "source": [
    "### Save the model"
   ]
  },
  {
   "cell_type": "code",
   "execution_count": 58,
   "metadata": {},
   "outputs": [
    {
     "name": "stdout",
     "output_type": "stream",
     "text": [
      "Model is trained - alexnet\n"
     ]
    }
   ],
   "source": [
    "trainedmodel = model_param + '.pth'\n",
    "\n",
    "if os.path.exists(trainedmodel):\n",
    "    print('Model is trained - ' + model_param)\n",
    "    red_model = torch.load(trainedmodel)\n",
    "else:\n",
    "    red_model = train_model(red_model, train_loader)\n",
    "    torch.save(red_model, trainedmodel)\n",
    "    \n",
    "    "
   ]
  },
  {
   "cell_type": "markdown",
   "metadata": {},
   "source": [
    "#### Testing"
   ]
  },
  {
   "cell_type": "code",
   "execution_count": 7,
   "metadata": {},
   "outputs": [
    {
     "name": "stdout",
     "output_type": "stream",
     "text": [
      "Validation Accuracy: 0.7699762658227848\n",
      "              precision    recall  f1-score   support\n",
      "\n",
      "         0.0       0.00      0.00      0.00       352\n",
      "         1.0       0.78      0.46      0.58      1272\n",
      "         2.0       0.77      0.96      0.86      3432\n",
      "\n",
      "    accuracy                           0.77      5056\n",
      "   macro avg       0.52      0.47      0.48      5056\n",
      "weighted avg       0.72      0.77      0.73      5056\n",
      "\n",
      "Confusion Matrix\n",
      "[[   0   43  309]\n",
      " [   2  587  683]\n",
      " [   2  124 3306]]\n",
      "Confusion Matrix Display\n"
     ]
    },
    {
     "data": {
      "image/png": "[encoded data removed]",
      "text/plain": [
       "<Figure size 432x288 with 2 Axes>"
      ]
     },
     "metadata": {
      "needs_background": "light"
     },
     "output_type": "display_data"
    }
   ],
   "source": [
    "def eval_model(model, dataloader):\n",
    "\n",
    "    model.eval()\n",
    "    Y_pred = []\n",
    "    Y_test = []\n",
    "    for data, target in dataloader:\n",
    "        # your code here\n",
    "        output = model(data)\n",
    "        #print(output.data)\n",
    "        #print(target)\n",
    "        _, y_predicted = torch.max(output.data, 1)\n",
    "        \n",
    "        Y_pred = np.append(Y_pred,y_predicted.detach().numpy())\n",
    "        Y_test = np.append(Y_test,target.detach().numpy())\n",
    "        #print('Prediction')\n",
    "        #print(Y_pred)\n",
    "\n",
    "    return Y_pred, Y_test\n",
    "\n",
    "from sklearn.metrics import accuracy_score,classification_report, confusion_matrix, ConfusionMatrixDisplay\n",
    "\n",
    "y_pred, y_true = eval_model(red_model, val_loader)\n",
    "acc = accuracy_score(y_true, y_pred)\n",
    "\n",
    "print((\"Validation Accuracy: \" + str(acc)))\n",
    "\n",
    "# Classification Report\n",
    "print(classification_report(y_true, y_pred))\n",
    "\n",
    "# Confusion Matrix\n",
    "print('Confusion Matrix')\n",
    "print(confusion_matrix(y_true, y_pred))\n",
    "\n",
    "confusion_matrix_df = pd.DataFrame(confusion_matrix(y_true, y_pred)).rename(columns=idx2class, index=idx2class)\n",
    "\n",
    "cm = confusion_matrix(y_true, y_pred)\n",
    "#print(cm)\n",
    "\n",
    "print('Confusion Matrix Display')\n",
    "cm_display = ConfusionMatrixDisplay(cm,classes).plot()\n"
   ]
  },
  {
   "cell_type": "code",
   "execution_count": null,
   "metadata": {},
   "outputs": [],
   "source": []
  },
  {
   "cell_type": "markdown",
   "metadata": {},
   "source": [
    "## Testing Accuracy\n",
    "\n",
    "Classification accuracy of the test model."
   ]
  },
  {
   "cell_type": "code",
   "execution_count": 8,
   "metadata": {},
   "outputs": [
    {
     "name": "stdout",
     "output_type": "stream",
     "text": [
      "Accuracy of the network on test X-rays : 77 %\n"
     ]
    }
   ],
   "source": [
    "\n",
    "correct = 0\n",
    "total = 0\n",
    "\n",
    "# no_grad impacts the autograd engine and deactivate it. It will reduce memory usage and speed up computations\n",
    "with torch.no_grad():\n",
    "    for data in val_loader:\n",
    "        images, labels = data[0].to(device), data[1].to(device)\n",
    "        outputs = red_model(images)\n",
    "        #print(outputs)\n",
    "        _, predicted = torch.max(outputs.data, 1)\n",
    "        total += labels.size(0)\n",
    "        correct += (predicted == labels).sum().item()\n",
    "\n",
    "print('Accuracy of the network on test X-rays : %d %%' % ( 100 * correct / total))\n",
    "\n"
   ]
  },
  {
   "cell_type": "markdown",
   "metadata": {},
   "source": [
    "## Individual Classes\n"
   ]
  },
  {
   "cell_type": "code",
   "execution_count": 9,
   "metadata": {},
   "outputs": [
    {
     "name": "stdout",
     "output_type": "stream",
     "text": [
      "Accuracy of Covid-19 :  0 %\n",
      "Accuracy of Normal : 42 %\n",
      "Accuracy of Pneumonia : 96 %\n"
     ]
    }
   ],
   "source": [
    "#Testing classification accuracy for individual classes.\n",
    "class_correct = list(0. for i in range(3))\n",
    "class_total = list(0. for i in range(3))\n",
    "\n",
    "with torch.no_grad():\n",
    "    for data in val_loader:\n",
    "        images, labels = data[0].to(device), data[1].to(device)\n",
    "        outputs = red_model(images)\n",
    "        _, predicted = torch.max(outputs, 1)\n",
    "        c = (predicted == labels).squeeze()\n",
    "        for i in range(4):\n",
    "            label = labels[i]\n",
    "            class_correct[label] += c[i].item()\n",
    "            class_total[label] += 1\n",
    "\n",
    "for i in range(3):\n",
    "    print('Accuracy of %5s : %2d %%' % (\n",
    "         classes[i], 100 * class_correct[i] / class_total[i]))\n"
   ]
  }
 ],
 "metadata": {
  "kernelspec": {
   "display_name": "Python 3",
   "language": "python",
   "name": "python3"
  },
  "language_info": {
   "codemirror_mode": {
    "name": "ipython",
    "version": 3
   },
   "file_extension": ".py",
   "mimetype": "text/x-python",
   "name": "python",
   "nbconvert_exporter": "python",
   "pygments_lexer": "ipython3",
   "version": "3.7.6"
  }
 },
 "nbformat": 4,
 "nbformat_minor": 4
}
