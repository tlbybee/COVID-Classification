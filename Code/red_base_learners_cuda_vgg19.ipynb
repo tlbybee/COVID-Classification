{
 "cells": [
  {
   "cell_type": "markdown",
   "id": "subtle-secretariat",
   "metadata": {},
   "source": [
    "# Pretrained Models\n",
    "\n",
    "## Base learners using pretrained models\n",
    "\n",
    "### Base learners using Resnet152, AlexNet, Densenet161\n",
    "\n",
    "Built using the function that Tyler created\n",
    "The tb_preprocess.py script should be in the same folder as the notebook.\n",
    "\n",
    "##### Need to add other models"
   ]
  },
  {
   "cell_type": "code",
   "execution_count": 23,
   "id": "needed-delicious",
   "metadata": {},
   "outputs": [],
   "source": [
    "modelnames = {'alexnet':'alexnet','resnet152':'resnet152','densenet161':'densenet161', 'vgg19':'vgg19'}\n",
    "\n",
    "#Set the Model name\n",
    "model_param = 'vgg19'\n",
    "filepath = '.'"
   ]
  },
  {
   "cell_type": "code",
   "execution_count": 24,
   "id": "three-manor",
   "metadata": {},
   "outputs": [
    {
     "name": "stdout",
     "output_type": "stream",
     "text": [
      "{'covid-19': 0, 'normal': 1, 'pnuemonia': 2}\n"
     ]
    }
   ],
   "source": [
    "import os\n",
    "import random\n",
    "import numpy as np\n",
    "import pandas as pd\n",
    "import torch\n",
    "import torchvision\n",
    "import torch.nn as nn\n",
    "import torch.nn.functional as F\n",
    "import torchvision.datasets as datasets\n",
    "import torchvision.transforms as transforms\n",
    "import matplotlib.pyplot as plt\n",
    "import time; _START_RUNTIME = time.time()\n",
    "import gc\n",
    "\n",
    "\n",
    "from torchvision import models\n",
    "\n",
    "\n",
    "#Use the preprocess function from tb_preprocess.py to load the datasets\n",
    "from tb_preprocess import load_data\n",
    "\n",
    "train_loader, val_loader, train_loader_red, val_loader_red = load_data() \n",
    "  \n",
    "tloader = train_loader;\n",
    "vloader = val_loader;\n",
    "    \n",
    "idx2class = {'covid-19': 0, 'normal': 1, 'pnuemonia': 2}\n",
    "classes = ('Covid-19', 'Normal', 'Pneumonia')\n",
    "\n"
   ]
  },
  {
   "cell_type": "markdown",
   "id": "diagnostic-twelve",
   "metadata": {},
   "source": [
    "### Use the model that is pretrained. \n",
    "\n",
    "##### Model selection is hardcoded for now\n"
   ]
  },
  {
   "cell_type": "code",
   "execution_count": 25,
   "id": "treated-billion",
   "metadata": {},
   "outputs": [
    {
     "name": "stdout",
     "output_type": "stream",
     "text": [
      "cuda:0\n"
     ]
    },
    {
     "data": {
      "text/plain": [
       "VGG(\n",
       "  (features): Sequential(\n",
       "    (0): Conv2d(3, 64, kernel_size=(3, 3), stride=(1, 1), padding=(1, 1))\n",
       "    (1): ReLU(inplace=True)\n",
       "    (2): Conv2d(64, 64, kernel_size=(3, 3), stride=(1, 1), padding=(1, 1))\n",
       "    (3): ReLU(inplace=True)\n",
       "    (4): MaxPool2d(kernel_size=2, stride=2, padding=0, dilation=1, ceil_mode=False)\n",
       "    (5): Conv2d(64, 128, kernel_size=(3, 3), stride=(1, 1), padding=(1, 1))\n",
       "    (6): ReLU(inplace=True)\n",
       "    (7): Conv2d(128, 128, kernel_size=(3, 3), stride=(1, 1), padding=(1, 1))\n",
       "    (8): ReLU(inplace=True)\n",
       "    (9): MaxPool2d(kernel_size=2, stride=2, padding=0, dilation=1, ceil_mode=False)\n",
       "    (10): Conv2d(128, 256, kernel_size=(3, 3), stride=(1, 1), padding=(1, 1))\n",
       "    (11): ReLU(inplace=True)\n",
       "    (12): Conv2d(256, 256, kernel_size=(3, 3), stride=(1, 1), padding=(1, 1))\n",
       "    (13): ReLU(inplace=True)\n",
       "    (14): Conv2d(256, 256, kernel_size=(3, 3), stride=(1, 1), padding=(1, 1))\n",
       "    (15): ReLU(inplace=True)\n",
       "    (16): Conv2d(256, 256, kernel_size=(3, 3), stride=(1, 1), padding=(1, 1))\n",
       "    (17): ReLU(inplace=True)\n",
       "    (18): MaxPool2d(kernel_size=2, stride=2, padding=0, dilation=1, ceil_mode=False)\n",
       "    (19): Conv2d(256, 512, kernel_size=(3, 3), stride=(1, 1), padding=(1, 1))\n",
       "    (20): ReLU(inplace=True)\n",
       "    (21): Conv2d(512, 512, kernel_size=(3, 3), stride=(1, 1), padding=(1, 1))\n",
       "    (22): ReLU(inplace=True)\n",
       "    (23): Conv2d(512, 512, kernel_size=(3, 3), stride=(1, 1), padding=(1, 1))\n",
       "    (24): ReLU(inplace=True)\n",
       "    (25): Conv2d(512, 512, kernel_size=(3, 3), stride=(1, 1), padding=(1, 1))\n",
       "    (26): ReLU(inplace=True)\n",
       "    (27): MaxPool2d(kernel_size=2, stride=2, padding=0, dilation=1, ceil_mode=False)\n",
       "    (28): Conv2d(512, 512, kernel_size=(3, 3), stride=(1, 1), padding=(1, 1))\n",
       "    (29): ReLU(inplace=True)\n",
       "    (30): Conv2d(512, 512, kernel_size=(3, 3), stride=(1, 1), padding=(1, 1))\n",
       "    (31): ReLU(inplace=True)\n",
       "    (32): Conv2d(512, 512, kernel_size=(3, 3), stride=(1, 1), padding=(1, 1))\n",
       "    (33): ReLU(inplace=True)\n",
       "    (34): Conv2d(512, 512, kernel_size=(3, 3), stride=(1, 1), padding=(1, 1))\n",
       "    (35): ReLU(inplace=True)\n",
       "    (36): MaxPool2d(kernel_size=2, stride=2, padding=0, dilation=1, ceil_mode=False)\n",
       "  )\n",
       "  (avgpool): AdaptiveAvgPool2d(output_size=(7, 7))\n",
       "  (classifier): Sequential(\n",
       "    (0): Linear(in_features=25088, out_features=4096, bias=True)\n",
       "    (1): ReLU(inplace=True)\n",
       "    (2): Dropout(p=0.5, inplace=False)\n",
       "    (3): Linear(in_features=4096, out_features=4096, bias=True)\n",
       "    (4): ReLU(inplace=True)\n",
       "    (5): Dropout(p=0.5, inplace=False)\n",
       "    (6): Linear(in_features=4096, out_features=1000, bias=True)\n",
       "  )\n",
       ")"
      ]
     },
     "execution_count": 25,
     "metadata": {},
     "output_type": "execute_result"
    }
   ],
   "source": [
    "gc.collect()\n",
    "torch.cuda.empty_cache()\n",
    "\n",
    "\n",
    "red_model = models.__dict__[model_param](pretrained=True)\n",
    "\n",
    "#Instantiating CUDA device\n",
    "device = torch.device(\"cuda:0\" if torch.cuda.is_available() else \"cpu\")\n",
    "\n",
    "#Verifying CUDA\n",
    "print(device)\n",
    "\n",
    "#Move the input and model to GPU for speed if available\n",
    "red_model.to(device)\n"
   ]
  },
  {
   "cell_type": "markdown",
   "id": "restricted-timber",
   "metadata": {},
   "source": [
    "#### Change the last linear layer to match the number of classes. In this case 3.\n",
    "\n",
    "##### Eg:- The standard Alexnet model has 1000 out features for the last Linear layer. Since the data set only has 3 classes, change the last layer to have 3 outs"
   ]
  },
  {
   "cell_type": "code",
   "execution_count": 26,
   "id": "banner-tulsa",
   "metadata": {},
   "outputs": [],
   "source": [
    "\n",
    "if model_param == 'alexnet':\n",
    "    red_model.classifier[6] = torch.nn.Linear(red_model.classifier[6].in_features, 3, bias=True)\n",
    "elif model_param == 'resnet152':\n",
    "    red_model.fc = torch.nn.Linear(2048, 3, bias=True)\n",
    "elif model_param == 'densenet161':\n",
    "    red_model.classifier = torch.nn.Linear(2208, 3, bias=True)\n",
    "elif model_param == 'vgg19':\n",
    "    red_model.classifier[6] = torch.nn.Linear(4096, 3, bias=True)\n",
    "\n",
    "red_model.eval()\n",
    "\n",
    "\n",
    "if model_param == 'alexnet':\n",
    "    red_model.features = torch.nn.DataParallel(red_model.features)\n",
    "    red_model.cuda()\n",
    "else:\n",
    "    red_model = torch.nn.DataParallel(red_model).cuda()\n",
    "    "
   ]
  },
  {
   "cell_type": "markdown",
   "id": "beneficial-small",
   "metadata": {},
   "source": [
    "#### Criterion and Optimizer"
   ]
  },
  {
   "cell_type": "code",
   "execution_count": 27,
   "id": "brazilian-bubble",
   "metadata": {},
   "outputs": [],
   "source": [
    "import torch.optim as optim\n",
    "\n",
    "#Loss\n",
    "criterion = nn.CrossEntropyLoss()\n",
    "\n",
    "#Optimizer(SGD)\n",
    "optimizer = optim.SGD(red_model.parameters(), lr=0.001, momentum=0.9)"
   ]
  },
  {
   "cell_type": "markdown",
   "id": "based-valuation",
   "metadata": {},
   "source": [
    "### Training VGG19"
   ]
  },
  {
   "cell_type": "code",
   "execution_count": 28,
   "id": "descending-settlement",
   "metadata": {},
   "outputs": [],
   "source": [
    "#Epochs is set to 1. Performace is slow\n",
    "#Need to try CUDA to speed up\n",
    "\n",
    "n_epochs = 25\n",
    "\n",
    "def train_model(model, train_dataloader, n_epoch=n_epochs, optimizer=optimizer, criterion=criterion):\n",
    "    import torch.optim as optim\n",
    "\n",
    "    # prep model for training\n",
    "    model.train() \n",
    "    \n",
    "    for epoch in range(n_epoch):\n",
    "        \n",
    "        EPOCH_START = time.time()\n",
    "        \n",
    "        curr_epoch_loss = []\n",
    "        \n",
    "        for data, target in train_dataloader:\n",
    "            \n",
    "            data, target = data.cuda(), target.cuda()\n",
    "            \n",
    "            optimizer.zero_grad()\n",
    "            \n",
    "            output = model(data)\n",
    "            #print(output)\n",
    "            loss = criterion(output, target)\n",
    "            \n",
    "            loss.backward()\n",
    "            optimizer.step()\n",
    "            \n",
    "            curr_epoch_loss.append(loss.cpu().data.numpy())\n",
    "            \n",
    "        print(f\"Epoch {epoch}: curr_epoch_loss={np.mean(curr_epoch_loss)}\")\n",
    "        print(\"Training time = {:.2f} seconds\".format(time.time() - EPOCH_START))\n",
    "    \n",
    "    return model\n"
   ]
  },
  {
   "cell_type": "markdown",
   "id": "academic-modeling",
   "metadata": {},
   "source": [
    "### Save the model"
   ]
  },
  {
   "cell_type": "code",
   "execution_count": 29,
   "id": "backed-saturn",
   "metadata": {},
   "outputs": [
    {
     "name": "stdout",
     "output_type": "stream",
     "text": [
      "Epoch 0: curr_epoch_loss=1.1258128881454468\n",
      "Training time = 5.94 seconds\n",
      "Epoch 1: curr_epoch_loss=0.9714275598526001\n",
      "Training time = 5.85 seconds\n",
      "Epoch 2: curr_epoch_loss=0.8284142017364502\n",
      "Training time = 5.93 seconds\n",
      "Epoch 3: curr_epoch_loss=0.6410677433013916\n",
      "Training time = 6.15 seconds\n",
      "Epoch 4: curr_epoch_loss=0.5467289090156555\n",
      "Training time = 5.80 seconds\n",
      "Epoch 5: curr_epoch_loss=0.4609254002571106\n",
      "Training time = 5.73 seconds\n",
      "Epoch 6: curr_epoch_loss=0.43046435713768005\n",
      "Training time = 5.75 seconds\n",
      "Epoch 7: curr_epoch_loss=0.27344319224357605\n",
      "Training time = 5.95 seconds\n",
      "Epoch 8: curr_epoch_loss=0.31313198804855347\n",
      "Training time = 5.79 seconds\n",
      "Epoch 9: curr_epoch_loss=0.37087905406951904\n",
      "Training time = 5.69 seconds\n",
      "Epoch 10: curr_epoch_loss=0.25808483362197876\n",
      "Training time = 5.83 seconds\n",
      "Epoch 11: curr_epoch_loss=0.22794732451438904\n",
      "Training time = 5.70 seconds\n",
      "Epoch 12: curr_epoch_loss=0.24264927208423615\n",
      "Training time = 5.62 seconds\n",
      "Epoch 13: curr_epoch_loss=0.24635380506515503\n",
      "Training time = 5.80 seconds\n",
      "Epoch 14: curr_epoch_loss=0.2602512240409851\n",
      "Training time = 5.91 seconds\n",
      "Epoch 15: curr_epoch_loss=0.28471437096595764\n",
      "Training time = 5.39 seconds\n",
      "Epoch 16: curr_epoch_loss=0.2247232347726822\n",
      "Training time = 5.39 seconds\n",
      "Epoch 17: curr_epoch_loss=0.18206682801246643\n",
      "Training time = 5.41 seconds\n",
      "Epoch 18: curr_epoch_loss=0.13604864478111267\n",
      "Training time = 5.36 seconds\n",
      "Epoch 19: curr_epoch_loss=0.13295063376426697\n",
      "Training time = 5.41 seconds\n",
      "Epoch 20: curr_epoch_loss=0.0872342512011528\n",
      "Training time = 5.33 seconds\n",
      "Epoch 21: curr_epoch_loss=0.06656894087791443\n",
      "Training time = 5.48 seconds\n",
      "Epoch 22: curr_epoch_loss=0.059358932077884674\n",
      "Training time = 5.39 seconds\n",
      "Epoch 23: curr_epoch_loss=0.0647522360086441\n",
      "Training time = 5.35 seconds\n",
      "Epoch 24: curr_epoch_loss=0.03844161331653595\n",
      "Training time = 5.36 seconds\n",
      "Total running time = 143.96 seconds\n"
     ]
    }
   ],
   "source": [
    "trainedmodel = model_param + '.pth'\n",
    "\n",
    "if os.path.exists(trainedmodel):\n",
    "    print('Model is trained - ' + model_param)\n",
    "    red_model = torch.load(trainedmodel)\n",
    "else:\n",
    "    red_model = train_model(red_model, tloader)\n",
    "    torch.save(red_model, trainedmodel)\n",
    "    print(\"Total running time = {:.2f} seconds\".format(time.time() - _START_RUNTIME))\n",
    "    \n",
    "gc.collect()\n",
    "torch.cuda.empty_cache()\n",
    "\n",
    "    "
   ]
  },
  {
   "cell_type": "code",
   "execution_count": null,
   "id": "challenging-negotiation",
   "metadata": {},
   "outputs": [],
   "source": []
  },
  {
   "cell_type": "markdown",
   "id": "electric-howard",
   "metadata": {},
   "source": [
    "#### Testing"
   ]
  },
  {
   "cell_type": "code",
   "execution_count": 30,
   "id": "literary-cocktail",
   "metadata": {},
   "outputs": [
    {
     "name": "stdout",
     "output_type": "stream",
     "text": [
      "Validation Accuracy: 0.7636363636363637\n",
      "              precision    recall  f1-score   support\n",
      "\n",
      "         0.0       0.41      0.88      0.55        88\n",
      "         1.0       0.76      0.50      0.61       319\n",
      "         2.0       0.84      0.85      0.85       858\n",
      "\n",
      "    accuracy                           0.76      1265\n",
      "   macro avg       0.67      0.74      0.67      1265\n",
      "weighted avg       0.79      0.76      0.77      1265\n",
      "\n",
      "Confusion Matrix\n",
      "[[ 77  11   0]\n",
      " [ 23 161 135]\n",
      " [ 90  40 728]]\n",
      "Confusion Matrix Display\n"
     ]
    },
    {
     "name": "stderr",
     "output_type": "stream",
     "text": [
      "/opt/conda/lib/python3.7/site-packages/sklearn/utils/validation.py:72: FutureWarning: Pass display_labels=('Covid-19', 'Normal', 'Pneumonia') as keyword args. From version 1.0 (renaming of 0.25) passing these as positional arguments will result in an error\n",
      "  \"will result in an error\", FutureWarning)\n"
     ]
    },
    {
     "data": {
      "image/png": "[encoded data removed]",
      "text/plain": [
       "<Figure size 432x288 with 2 Axes>"
      ]
     },
     "metadata": {
      "needs_background": "light"
     },
     "output_type": "display_data"
    }
   ],
   "source": [
    "def eval_model(model, dataloader):\n",
    "\n",
    "    model.eval()\n",
    "    Y_pred = []\n",
    "    Y_test = []\n",
    "    for data, target in dataloader:\n",
    "\n",
    "        data, target = data.cuda(), target.cuda()\n",
    "        \n",
    "        output = model(data)\n",
    "        #print(output.data)\n",
    "        #print(target)\n",
    "        _, y_predicted = torch.max(output.data, 1)\n",
    "        \n",
    "        Y_pred = np.append(Y_pred,y_predicted.detach().cpu().numpy())\n",
    "        Y_test = np.append(Y_test,target.detach().cpu().numpy())\n",
    "\n",
    "    return Y_pred, Y_test\n",
    "\n",
    "from sklearn.metrics import accuracy_score,classification_report, confusion_matrix, ConfusionMatrixDisplay\n",
    "\n",
    "y_pred, y_true = eval_model(red_model, vloader)\n",
    "acc = accuracy_score(y_true, y_pred)\n",
    "\n",
    "print((\"Validation Accuracy: \" + str(acc)))\n",
    "\n",
    "# Classification Report\n",
    "print(classification_report(y_true, y_pred))\n",
    "\n",
    "# Confusion Matrix\n",
    "print('Confusion Matrix')\n",
    "print(confusion_matrix(y_true, y_pred))\n",
    "\n",
    "confusion_matrix_df = pd.DataFrame(confusion_matrix(y_true, y_pred)).rename(columns=idx2class, index=idx2class)\n",
    "\n",
    "cm = confusion_matrix(y_true, y_pred)\n",
    "#print(cm)\n",
    "\n",
    "print('Confusion Matrix Display')\n",
    "cm_display = ConfusionMatrixDisplay(cm,classes).plot()\n"
   ]
  },
  {
   "cell_type": "markdown",
   "id": "adverse-throw",
   "metadata": {},
   "source": [
    "## Testing Accuracy\n",
    "\n",
    "Classification accuracy of the test model."
   ]
  },
  {
   "cell_type": "code",
   "execution_count": 31,
   "id": "christian-matthew",
   "metadata": {},
   "outputs": [
    {
     "name": "stdout",
     "output_type": "stream",
     "text": [
      "Accuracy of the network on test X-rays : 77 %\n"
     ]
    }
   ],
   "source": [
    "\n",
    "correct = 0\n",
    "total = 0\n",
    "\n",
    "# no_grad impacts the autograd engine and deactivate it. It will reduce memory usage and speed up computations\n",
    "with torch.no_grad():\n",
    "    for data in vloader:\n",
    "        images, labels = data[0].to(device), data[1].to(device)\n",
    "        outputs = red_model(images)\n",
    "        #print(outputs)\n",
    "        _, predicted = torch.max(outputs.data, 1)\n",
    "        total += labels.size(0)\n",
    "        correct += (predicted == labels).sum().item()\n",
    "\n",
    "print('Accuracy of the network on test X-rays : %d %%' % ( 100 * correct / total))\n",
    "\n"
   ]
  },
  {
   "cell_type": "markdown",
   "id": "structural-museum",
   "metadata": {},
   "source": [
    "## Individual Classes\n"
   ]
  },
  {
   "cell_type": "code",
   "execution_count": 32,
   "id": "altered-guest",
   "metadata": {},
   "outputs": [
    {
     "name": "stdout",
     "output_type": "stream",
     "text": [
      "Accuracy of Covid-19 : 100 %\n",
      "Accuracy of Normal : 57 %\n",
      "Accuracy of Pneumonia : 83 %\n"
     ]
    }
   ],
   "source": [
    "#Testing classification accuracy for individual classes.\n",
    "class_correct = list(0. for i in range(3))\n",
    "class_total = list(0. for i in range(3))\n",
    "\n",
    "with torch.no_grad():\n",
    "    for data in vloader:\n",
    "        images, labels = data[0].to(device), data[1].to(device)\n",
    "        outputs = red_model(images)\n",
    "        _, predicted = torch.max(outputs, 1)\n",
    "        c = (predicted == labels).squeeze()\n",
    "        for i in range(4):\n",
    "            label = labels[i]\n",
    "            class_correct[label] += c[i].item()\n",
    "            class_total[label] += 1\n",
    "\n",
    "for i in range(3):\n",
    "    print('Accuracy of %5s : %2d %%' % (\n",
    "         classes[i], 100 * class_correct[i] / class_total[i]))\n"
   ]
  },
  {
   "cell_type": "code",
   "execution_count": null,
   "id": "pregnant-quarter",
   "metadata": {},
   "outputs": [],
   "source": []
  }
 ],
 "metadata": {
  "environment": {
   "name": "pytorch-gpu.1-8.m65",
   "type": "gcloud",
   "uri": "gcr.io/deeplearning-platform-release/pytorch-gpu.1-8:m65"
  },
  "kernelspec": {
   "display_name": "Python 3",
   "language": "python",
   "name": "python3"
  },
  "language_info": {
   "codemirror_mode": {
    "name": "ipython",
    "version": 3
   },
   "file_extension": ".py",
   "mimetype": "text/x-python",
   "name": "python",
   "nbconvert_exporter": "python",
   "pygments_lexer": "ipython3",
   "version": "3.7.10"
  }
 },
 "nbformat": 4,
 "nbformat_minor": 5
}
